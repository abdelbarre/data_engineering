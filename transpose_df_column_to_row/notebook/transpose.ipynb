{
 "cells": [
  {
   "cell_type": "markdown",
   "metadata": {},
   "source": [
    "## Transpose Function with Pyspark ✌️"
   ]
  },
  {
   "cell_type": "raw",
   "metadata": {},
   "source": [
    "Pivoting/transposing means we need to convert a row into columns. We need to do this to show a different view of data, \n",
    "to show aggregation performed on different granularity than which is present in the existing table."
   ]
  },
  {
   "cell_type": "markdown",
   "metadata": {},
   "source": [
    "![allo](../image/transpose.png)"
   ]
  },
  {
   "cell_type": "code",
   "execution_count": 13,
   "metadata": {},
   "outputs": [],
   "source": [
    "# Function shows all columns exist in table\n",
    "def showDf(df, percent=1.0, maxRows=0, maxColumns=0):\n",
    "    if (df == None): return\n",
    "    import pandas\n",
    "    from IPython.display import display\n",
    "    if (maxColumns == 0): maxColumns = len(df.columns)\n",
    "    pandas.set_option('display.max_columns', maxColumns)\n",
    "    pandas.set_option('display.encoding', 'UTF-8')\n",
    "    if (percent < 1.0):\n",
    "        import datetime\n",
    "        now = datetime.datetime.now()\n",
    "        seed = long(now.strftime(\"%H%M%S\"))\n",
    "        df = df.sample(False, percent, seed)\n",
    "    if (maxRows == 0): maxRows = df.count()\n",
    "    pandas.set_option('display.max_rows', maxRows)\n",
    "    dfp = df.toPandas()\n",
    "    display(dfp)"
   ]
  },
  {
   "cell_type": "code",
   "execution_count": 11,
   "metadata": {},
   "outputs": [],
   "source": [
    "\n",
    "from pyspark.sql.functions import array, col, explode, struct, lit\n",
    "## just for example \n",
    "df = sc.parallelize([('client_A', 'bike', '100$'), ('client_A', 'car', '14000$'),('client_B', 'hover', '100$'), (\"client_B\", 'moto', '1400$')]).toDF([\"customer\", \"product\", \"price\"])\n",
    "## Transpose Function \n",
    "def transpose(df, by):\n",
    "\n",
    "    # Filter dtypes and split into column names and type description\n",
    "    cols, dtypes = zip(*((c, t) for (c, t) in df.dtypes if c not in by))\n",
    "    # Spark SQL supports only homogeneous columns\n",
    "    assert len(set(dtypes)) == 1, \"All columns have to be of the same type\"\n",
    "     # Create and explode an array of (column_name, column_value) structs\n",
    "    kvs = explode(array([\n",
    "      struct(lit(c).alias(\"key\"), col(c).alias(\"val\")) for c in cols\n",
    "    ])).alias(\"kvs\")\n",
    "    return df.select(by + [kvs]).select(by + [\"kvs.key\", \"kvs.val\"])\n",
    "\n",
    "\n",
    "new_df = transpose(df, [\"customer\"])## [A] is te column to pivot on it"
   ]
  },
  {
   "cell_type": "code",
   "execution_count": 12,
   "metadata": {},
   "outputs": [
    {
     "name": "stdout",
     "output_type": "stream",
     "text": [
      "The original Df is :\n",
      "********************\n",
      "+--------+-------+------+\n",
      "|customer|product| price|\n",
      "+--------+-------+------+\n",
      "|client_A|   bike|  100$|\n",
      "|client_A|    car|14000$|\n",
      "|client_B|  hover|  100$|\n",
      "|client_B|   moto| 1400$|\n",
      "+--------+-------+------+\n",
      "\n",
      "********************\n",
      "The transposed Df is :\n",
      "********************\n",
      "+--------+-------+------+\n",
      "|customer|    key|   val|\n",
      "+--------+-------+------+\n",
      "|client_A|product|  bike|\n",
      "|client_A|  price|  100$|\n",
      "|client_A|product|   car|\n",
      "|client_A|  price|14000$|\n",
      "|client_B|product| hover|\n",
      "|client_B|  price|  100$|\n",
      "|client_B|product|  moto|\n",
      "|client_B|  price| 1400$|\n",
      "+--------+-------+------+\n",
      "\n"
     ]
    }
   ],
   "source": [
    "## The moment of truth :-D\n",
    "print(\"The original Df is :\")\n",
    "print(\"********************\")\n",
    "df.show()  ## Native spark Show\n",
    "print(\"********************\")\n",
    "print(\"The transposed Df is :\")\n",
    "print(\"********************\")\n",
    "new_df.show()"
   ]
  },
  {
   "cell_type": "code",
   "execution_count": 16,
   "metadata": {},
   "outputs": [
    {
     "name": "stdout",
     "output_type": "stream",
     "text": [
      "The original Df is :\n",
      "********************\n",
      "\n"
     ]
    },
    {
     "data": {
      "text/html": [
       "<div>\n",
       "<style scoped>\n",
       "    .dataframe tbody tr th:only-of-type {\n",
       "        vertical-align: middle;\n",
       "    }\n",
       "\n",
       "    .dataframe tbody tr th {\n",
       "        vertical-align: top;\n",
       "    }\n",
       "\n",
       "    .dataframe thead th {\n",
       "        text-align: right;\n",
       "    }\n",
       "</style>\n",
       "<table border=\"1\" class=\"dataframe\">\n",
       "  <thead>\n",
       "    <tr style=\"text-align: right;\">\n",
       "      <th></th>\n",
       "      <th>customer</th>\n",
       "      <th>product</th>\n",
       "      <th>price</th>\n",
       "    </tr>\n",
       "  </thead>\n",
       "  <tbody>\n",
       "    <tr>\n",
       "      <th>0</th>\n",
       "      <td>client_A</td>\n",
       "      <td>bike</td>\n",
       "      <td>100$</td>\n",
       "    </tr>\n",
       "    <tr>\n",
       "      <th>1</th>\n",
       "      <td>client_A</td>\n",
       "      <td>car</td>\n",
       "      <td>14000$</td>\n",
       "    </tr>\n",
       "    <tr>\n",
       "      <th>2</th>\n",
       "      <td>client_B</td>\n",
       "      <td>hover</td>\n",
       "      <td>100$</td>\n",
       "    </tr>\n",
       "    <tr>\n",
       "      <th>3</th>\n",
       "      <td>client_B</td>\n",
       "      <td>moto</td>\n",
       "      <td>1400$</td>\n",
       "    </tr>\n",
       "  </tbody>\n",
       "</table>\n",
       "</div>"
      ],
      "text/plain": [
       "   customer product   price\n",
       "0  client_A    bike    100$\n",
       "1  client_A     car  14000$\n",
       "2  client_B   hover    100$\n",
       "3  client_B    moto   1400$"
      ]
     },
     "metadata": {},
     "output_type": "display_data"
    },
    {
     "name": "stdout",
     "output_type": "stream",
     "text": [
      "********************\n",
      "The transposed Df is :\n",
      "********************\n"
     ]
    },
    {
     "data": {
      "text/html": [
       "<div>\n",
       "<style scoped>\n",
       "    .dataframe tbody tr th:only-of-type {\n",
       "        vertical-align: middle;\n",
       "    }\n",
       "\n",
       "    .dataframe tbody tr th {\n",
       "        vertical-align: top;\n",
       "    }\n",
       "\n",
       "    .dataframe thead th {\n",
       "        text-align: right;\n",
       "    }\n",
       "</style>\n",
       "<table border=\"1\" class=\"dataframe\">\n",
       "  <thead>\n",
       "    <tr style=\"text-align: right;\">\n",
       "      <th></th>\n",
       "      <th>customer</th>\n",
       "      <th>key</th>\n",
       "      <th>val</th>\n",
       "    </tr>\n",
       "  </thead>\n",
       "  <tbody>\n",
       "    <tr>\n",
       "      <th>0</th>\n",
       "      <td>client_A</td>\n",
       "      <td>product</td>\n",
       "      <td>bike</td>\n",
       "    </tr>\n",
       "    <tr>\n",
       "      <th>1</th>\n",
       "      <td>client_A</td>\n",
       "      <td>price</td>\n",
       "      <td>100$</td>\n",
       "    </tr>\n",
       "    <tr>\n",
       "      <th>2</th>\n",
       "      <td>client_A</td>\n",
       "      <td>product</td>\n",
       "      <td>car</td>\n",
       "    </tr>\n",
       "    <tr>\n",
       "      <th>3</th>\n",
       "      <td>client_A</td>\n",
       "      <td>price</td>\n",
       "      <td>14000$</td>\n",
       "    </tr>\n",
       "    <tr>\n",
       "      <th>4</th>\n",
       "      <td>client_B</td>\n",
       "      <td>product</td>\n",
       "      <td>hover</td>\n",
       "    </tr>\n",
       "    <tr>\n",
       "      <th>5</th>\n",
       "      <td>client_B</td>\n",
       "      <td>price</td>\n",
       "      <td>100$</td>\n",
       "    </tr>\n",
       "    <tr>\n",
       "      <th>6</th>\n",
       "      <td>client_B</td>\n",
       "      <td>product</td>\n",
       "      <td>moto</td>\n",
       "    </tr>\n",
       "    <tr>\n",
       "      <th>7</th>\n",
       "      <td>client_B</td>\n",
       "      <td>price</td>\n",
       "      <td>1400$</td>\n",
       "    </tr>\n",
       "  </tbody>\n",
       "</table>\n",
       "</div>"
      ],
      "text/plain": [
       "   customer      key     val\n",
       "0  client_A  product    bike\n",
       "1  client_A    price    100$\n",
       "2  client_A  product     car\n",
       "3  client_A    price  14000$\n",
       "4  client_B  product   hover\n",
       "5  client_B    price    100$\n",
       "6  client_B  product    moto\n",
       "7  client_B    price   1400$"
      ]
     },
     "metadata": {},
     "output_type": "display_data"
    }
   ],
   "source": [
    "## The moment of truth :-D\n",
    "print(\"The original Df is :\")\n",
    "print(\"********************\")\n",
    "print(\"\")\n",
    "showDf(df,1.0) ## call the showDf function\n",
    "print(\"********************\")\n",
    "print(\"The transposed Df is :\")\n",
    "print(\"********************\")\n",
    "showDf(new_df,1.0) ## call the showDf function\n"
   ]
  },
  {
   "cell_type": "code",
   "execution_count": null,
   "metadata": {},
   "outputs": [],
   "source": []
  }
 ],
 "metadata": {
  "kernelspec": {
   "display_name": "Python-3 Spark-2.4.4 Local (All cores)",
   "language": "python",
   "name": "datalab-python-3-spark-2.4.4-local-all_cores"
  },
  "language_info": {
   "codemirror_mode": {
    "name": "ipython",
    "version": 3
   },
   "file_extension": ".py",
   "mimetype": "text/x-python",
   "name": "python",
   "nbconvert_exporter": "python",
   "pygments_lexer": "ipython3",
   "version": "3.7.3"
  }
 },
 "nbformat": 4,
 "nbformat_minor": 4
}
